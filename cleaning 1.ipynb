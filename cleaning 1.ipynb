{
 "cells": [
  {
   "cell_type": "code",
   "execution_count": 1,
   "id": "c446debf",
   "metadata": {},
   "outputs": [
    {
     "name": "stdout",
     "output_type": "stream",
     "text": [
      "Requirement already satisfied: sqlalchemy in c:\\users\\yuvra\\appdata\\local\\packages\\pythonsoftwarefoundation.python.3.11_qbz5n2kfra8p0\\localcache\\local-packages\\python311\\site-packages (2.0.41)\n",
      "Requirement already satisfied: greenlet>=1 in c:\\users\\yuvra\\appdata\\local\\packages\\pythonsoftwarefoundation.python.3.11_qbz5n2kfra8p0\\localcache\\local-packages\\python311\\site-packages (from sqlalchemy) (3.2.3)\n",
      "Requirement already satisfied: typing-extensions>=4.6.0 in c:\\users\\yuvra\\appdata\\local\\packages\\pythonsoftwarefoundation.python.3.11_qbz5n2kfra8p0\\localcache\\local-packages\\python311\\site-packages (from sqlalchemy) (4.13.2)\n"
     ]
    },
    {
     "name": "stderr",
     "output_type": "stream",
     "text": [
      "\n",
      "[notice] A new release of pip is available: 24.0 -> 25.1.1\n",
      "[notice] To update, run: C:\\Users\\yuvra\\AppData\\Local\\Microsoft\\WindowsApps\\PythonSoftwareFoundation.Python.3.11_qbz5n2kfra8p0\\python.exe -m pip install --upgrade pip\n"
     ]
    }
   ],
   "source": [
    "!pip install sqlalchemy"
   ]
  },
  {
   "cell_type": "code",
   "execution_count": 24,
   "id": "f969b701",
   "metadata": {},
   "outputs": [
    {
     "name": "stdout",
     "output_type": "stream",
     "text": [
      "Collecting ast\n",
      "  Downloading AST-0.0.2.tar.gz (19 kB)\n",
      "  Installing build dependencies: started\n",
      "  Installing build dependencies: finished with status 'done'\n",
      "  Getting requirements to build wheel: started\n",
      "  Getting requirements to build wheel: finished with status 'error'\n"
     ]
    },
    {
     "name": "stderr",
     "output_type": "stream",
     "text": [
      "  error: subprocess-exited-with-error\n",
      "  \n",
      "  × Getting requirements to build wheel did not run successfully.\n",
      "  │ exit code: 1\n",
      "  ╰─> [21 lines of output]\n",
      "      Traceback (most recent call last):\n",
      "        File \"C:\\Program Files\\WindowsApps\\PythonSoftwareFoundation.Python.3.11_3.11.2544.0_x64__qbz5n2kfra8p0\\Lib\\site-packages\\pip\\_vendor\\pyproject_hooks\\_in_process\\_in_process.py\", line 353, in <module>\n",
      "          main()\n",
      "        File \"C:\\Program Files\\WindowsApps\\PythonSoftwareFoundation.Python.3.11_3.11.2544.0_x64__qbz5n2kfra8p0\\Lib\\site-packages\\pip\\_vendor\\pyproject_hooks\\_in_process\\_in_process.py\", line 335, in main\n",
      "          json_out['return_val'] = hook(**hook_input['kwargs'])\n",
      "                                   ^^^^^^^^^^^^^^^^^^^^^^^^^^^^\n",
      "        File \"C:\\Program Files\\WindowsApps\\PythonSoftwareFoundation.Python.3.11_3.11.2544.0_x64__qbz5n2kfra8p0\\Lib\\site-packages\\pip\\_vendor\\pyproject_hooks\\_in_process\\_in_process.py\", line 118, in get_requires_for_build_wheel\n",
      "          return hook(config_settings)\n",
      "                 ^^^^^^^^^^^^^^^^^^^^^\n",
      "        File \"C:\\Users\\yuvra\\AppData\\Local\\Temp\\pip-build-env-aghircv7\\overlay\\Lib\\site-packages\\setuptools\\build_meta.py\", line 331, in get_requires_for_build_wheel\n",
      "          return self._get_build_requires(config_settings, requirements=[])\n",
      "                 ^^^^^^^^^^^^^^^^^^^^^^^^^^^^^^^^^^^^^^^^^^^^^^^^^^^^^^^^^^\n",
      "        File \"C:\\Users\\yuvra\\AppData\\Local\\Temp\\pip-build-env-aghircv7\\overlay\\Lib\\site-packages\\setuptools\\build_meta.py\", line 301, in _get_build_requires\n",
      "          self.run_setup()\n",
      "        File \"C:\\Users\\yuvra\\AppData\\Local\\Temp\\pip-build-env-aghircv7\\overlay\\Lib\\site-packages\\setuptools\\build_meta.py\", line 512, in run_setup\n",
      "          super().run_setup(setup_script=setup_script)\n",
      "        File \"C:\\Users\\yuvra\\AppData\\Local\\Temp\\pip-build-env-aghircv7\\overlay\\Lib\\site-packages\\setuptools\\build_meta.py\", line 317, in run_setup\n",
      "          exec(code, locals())\n",
      "        File \"<string>\", line 6, in <module>\n",
      "        File \"<frozen codecs>\", line 918, in open\n",
      "      FileNotFoundError: [Errno 2] No such file or directory: 'C:\\\\Users\\\\yuvra\\\\AppData\\\\Local\\\\Temp\\\\pip-install-rpfsuyak\\\\ast_cbe4ff26576f410da28bbb1bac9ddabc\\\\AST/README'\n",
      "      [end of output]\n",
      "  \n",
      "  note: This error originates from a subprocess, and is likely not a problem with pip.\n",
      "error: subprocess-exited-with-error\n",
      "\n",
      "× Getting requirements to build wheel did not run successfully.\n",
      "│ exit code: 1\n",
      "╰─> See above for output.\n",
      "\n",
      "note: This error originates from a subprocess, and is likely not a problem with pip.\n",
      "\n",
      "[notice] A new release of pip is available: 24.0 -> 25.1.1\n",
      "[notice] To update, run: C:\\Users\\yuvra\\AppData\\Local\\Microsoft\\WindowsApps\\PythonSoftwareFoundation.Python.3.11_qbz5n2kfra8p0\\python.exe -m pip install --upgrade pip\n"
     ]
    }
   ],
   "source": [
    "!pip install ast"
   ]
  },
  {
   "cell_type": "code",
   "execution_count": 18,
   "id": "0953da38",
   "metadata": {},
   "outputs": [
    {
     "name": "stderr",
     "output_type": "stream",
     "text": [
      "ERROR: Could not find a version that satisfies the requirement re (from versions: none)\n",
      "ERROR: No matching distribution found for re\n",
      "\n",
      "[notice] A new release of pip is available: 24.0 -> 25.1.1\n",
      "[notice] To update, run: C:\\Users\\yuvra\\AppData\\Local\\Microsoft\\WindowsApps\\PythonSoftwareFoundation.Python.3.11_qbz5n2kfra8p0\\python.exe -m pip install --upgrade pip\n"
     ]
    }
   ],
   "source": [
    "!pip install re"
   ]
  },
  {
   "cell_type": "code",
   "execution_count": 2,
   "id": "a1f16cf5",
   "metadata": {},
   "outputs": [
    {
     "name": "stdout",
     "output_type": "stream",
     "text": [
      "Requirement already satisfied: pymysql in c:\\users\\yuvra\\appdata\\local\\packages\\pythonsoftwarefoundation.python.3.11_qbz5n2kfra8p0\\localcache\\local-packages\\python311\\site-packages (1.1.1)\n"
     ]
    },
    {
     "name": "stderr",
     "output_type": "stream",
     "text": [
      "\n",
      "[notice] A new release of pip is available: 24.0 -> 25.1.1\n",
      "[notice] To update, run: C:\\Users\\yuvra\\AppData\\Local\\Microsoft\\WindowsApps\\PythonSoftwareFoundation.Python.3.11_qbz5n2kfra8p0\\python.exe -m pip install --upgrade pip\n"
     ]
    }
   ],
   "source": [
    "!pip install pymysql"
   ]
  },
  {
   "cell_type": "code",
   "execution_count": 103,
   "id": "7d411e26",
   "metadata": {},
   "outputs": [],
   "source": [
    "import pandas as pd\n",
    "import likesucksbutthisdoesnt as ls\n",
    "import matplotlib.pyplot as plt"
   ]
  },
  {
   "cell_type": "code",
   "execution_count": 104,
   "id": "5f20778b",
   "metadata": {},
   "outputs": [],
   "source": [
    "movies_path = r'C:\\Users\\yuvra\\OneDrive\\Desktop\\Cleaning\\movies.csv'\n",
    "movies_df = pd.read_csv(movies_path, encoding = 'cp1252')"
   ]
  },
  {
   "cell_type": "code",
   "execution_count": 105,
   "id": "a0a55e57",
   "metadata": {},
   "outputs": [
    {
     "name": "stdout",
     "output_type": "stream",
     "text": [
      "                                   Movies         Year  \\\n",
      "0                           Blood Red Sky        -2021   \n",
      "1     Masters of the Universe: Revelation     (2021– )   \n",
      "2                        The Walking Dead  (2010–2022)   \n",
      "3                          Rick and Morty     (2013– )   \n",
      "4                         Army of Thieves        -2021   \n",
      "...                                   ...          ...   \n",
      "9994                       The Imperfects     (2021– )   \n",
      "9995                               Arcane     (2021– )   \n",
      "9996                    Heart of Invictus     (2022– )   \n",
      "9997                       The Imperfects     (2021– )   \n",
      "9998                       The Imperfects     (2021– )   \n",
      "\n",
      "                                           Genre  Rating  \\\n",
      "0         \\nAction, Horror, Thriller                 6.1   \n",
      "1     \\nAnimation, Action, Adventure                 5.0   \n",
      "2          \\nDrama, Horror, Thriller                 8.2   \n",
      "3     \\nAnimation, Adventure, Comedy                 9.2   \n",
      "4            \\nAction, Crime, Horror                 NaN   \n",
      "...                                          ...     ...   \n",
      "9994     \\nAdventure, Drama, Fantasy                 NaN   \n",
      "9995  \\nAnimation, Action, Adventure                 NaN   \n",
      "9996            \\nDocumentary, Sport                 NaN   \n",
      "9997     \\nAdventure, Drama, Fantasy                 NaN   \n",
      "9998     \\nAdventure, Drama, Fantasy                 NaN   \n",
      "\n",
      "                                               One-Line  \\\n",
      "0     \\nA Woman With A Mysterious Illness Is Forced ...   \n",
      "1     \\nThe War For Eternia Begins Again In What May...   \n",
      "2     \\nSheriff Deputy Rick Grimes Wakes Up From A C...   \n",
      "3     \\nAn Animated Series That Follows The Exploits...   \n",
      "4     \\nA Prequel, Set Before The Events Of Army Of ...   \n",
      "...                                                 ...   \n",
      "9994                                     \\nAdd A Plot\\n   \n",
      "9995                                     \\nAdd A Plot\\n   \n",
      "9996                                     \\nAdd A Plot\\n   \n",
      "9997                                     \\nAdd A Plot\\n   \n",
      "9998                                     \\nAdd A Plot\\n   \n",
      "\n",
      "                                                  Stars     Votes  Runtime  \\\n",
      "0     \\n    Director:\\nPeter Thorwarth\\n| \\n    Star...    21,062    121.0   \n",
      "1     \\n            \\n    Stars:\\nChris Wood, \\nSara...    17,870     25.0   \n",
      "2     \\n            \\n    Stars:\\nAndrew Lincoln, \\n...  8,85,805     44.0   \n",
      "3     \\n            \\n    Stars:\\nJustin Roiland, \\n...  4,14,849     23.0   \n",
      "4     \\n    Director:\\nMatthias Schweighöfer\\n| \\n  ...       NaN      NaN   \n",
      "...                                                 ...       ...      ...   \n",
      "9994  \\n            \\n    Stars:\\nMorgan Taylor Camp...       NaN      NaN   \n",
      "9995                                                 \\n       NaN      NaN   \n",
      "9996  \\n    Director:\\nOrlando von Einsiedel\\n| \\n  ...       NaN      NaN   \n",
      "9997  \\n    Director:\\nJovanka Vuckovic\\n| \\n    Sta...       NaN      NaN   \n",
      "9998  \\n    Director:\\nJovanka Vuckovic\\n| \\n    Sta...       NaN      NaN   \n",
      "\n",
      "     Gross  \n",
      "0      NaN  \n",
      "1      NaN  \n",
      "2      NaN  \n",
      "3      NaN  \n",
      "4      NaN  \n",
      "...    ...  \n",
      "9994   NaN  \n",
      "9995   NaN  \n",
      "9996   NaN  \n",
      "9997   NaN  \n",
      "9998   NaN  \n",
      "\n",
      "[9999 rows x 9 columns]\n"
     ]
    }
   ],
   "source": [
    "movies_df.columns = movies_df.columns.str.title()\n",
    "movies_df['One-Line'] = movies_df['One-Line'].str.title()\n",
    "print(movies_df)"
   ]
  },
  {
   "cell_type": "code",
   "execution_count": 106,
   "id": "472fd5fe",
   "metadata": {},
   "outputs": [],
   "source": [
    "movies_df['Year'] = movies_df['Year'].astype(str)  # ensure it's string\n"
   ]
  },
  {
   "cell_type": "code",
   "execution_count": 107,
   "id": "adcbd37f",
   "metadata": {},
   "outputs": [],
   "source": [
    "import re\n",
    "\n",
    "def year(val):\n",
    "    pattern = r'\\b\\d{4}\\b'\n",
    "    \n",
    "    if re.findall(pattern, val):\n",
    "        a = re.findall(pattern, str(val))\n",
    "        \n",
    "    else:\n",
    "        a = 'None'\n",
    "    return a     \n",
    "movies_df['New'] = movies_df['Year'].apply(year)"
   ]
  },
  {
   "cell_type": "code",
   "execution_count": 108,
   "id": "87f5b8e7",
   "metadata": {},
   "outputs": [
    {
     "name": "stdout",
     "output_type": "stream",
     "text": [
      "748\n"
     ]
    }
   ],
   "source": [
    "print((movies_df['New'] == 'None').sum())"
   ]
  },
  {
   "cell_type": "code",
   "execution_count": 109,
   "id": "bc326bb4",
   "metadata": {},
   "outputs": [],
   "source": [
    "movies_df = movies_df.drop_duplicates(subset = ['Movies', 'Year', 'Rating'], keep = 'first')"
   ]
  },
  {
   "cell_type": "code",
   "execution_count": 110,
   "id": "76e65551",
   "metadata": {},
   "outputs": [
    {
     "name": "stdout",
     "output_type": "stream",
     "text": [
      "10.489999999999998\n"
     ]
    }
   ],
   "source": [
    "print((movies_df['Rating'].isnull().sum()/10000)*100)"
   ]
  },
  {
   "cell_type": "code",
   "execution_count": 111,
   "id": "bb8ac352",
   "metadata": {},
   "outputs": [
    {
     "name": "stdout",
     "output_type": "stream",
     "text": [
      "<class 'pandas.core.frame.DataFrame'>\n",
      "Index: 8336 entries, 0 to 9996\n",
      "Data columns (total 10 columns):\n",
      " #   Column    Non-Null Count  Dtype  \n",
      "---  ------    --------------  -----  \n",
      " 0   Movies    8336 non-null   object \n",
      " 1   Year      8336 non-null   object \n",
      " 2   Genre     8258 non-null   object \n",
      " 3   Rating    7287 non-null   float64\n",
      " 4   One-Line  8336 non-null   object \n",
      " 5   Stars     8336 non-null   object \n",
      " 6   Votes     7287 non-null   object \n",
      " 7   Runtime   6340 non-null   float64\n",
      " 8   Gross     460 non-null    object \n",
      " 9   New       8336 non-null   object \n",
      "dtypes: float64(2), object(8)\n",
      "memory usage: 716.4+ KB\n"
     ]
    }
   ],
   "source": [
    "movies_df.info()"
   ]
  },
  {
   "cell_type": "code",
   "execution_count": 112,
   "id": "404f9158",
   "metadata": {},
   "outputs": [],
   "source": [
    "def clean_year(value):\n",
    "    value = str(value).strip() #strip remove any weird spaces\n",
    "    value = value.replace('(', '').replace(')', \"\")\n",
    "    value = value.replace('–', '-').replace('—', '-')\n",
    "    \n",
    "    if value.startswith('-') and value[1:].isdigit(): #checks the starting #value[1:].isdigit(): checks if 2nd character is a digit or not\n",
    "        return f\"unknown - {value[1:]}\"\n",
    "    \n",
    "    elif value.endswith('-') and value[:1].isdigit(): #checks the ending \n",
    "        return (value[:1] - 'present') \n",
    "    \n",
    "    elif '-' in value: #check for '-' present anywhere else\n",
    "        parts = value.split('-')\n",
    "        if len(parts) == 2:\n",
    "            start = parts[0].strip() or 'unknown'\n",
    "            end = parts[1].strip() or 'present'\n",
    "            return (start, end)\n",
    "    \n",
    "    elif value.isdigit():\n",
    "        return f\"unknown - {value}\"\n",
    "           \n",
    "    \n",
    "    return (None, None)\n",
    "\n",
    "movies_df[['start', 'end']] = movies_df['Year'].apply(lambda x: pd.Series(clean_year(x)))    \n"
   ]
  },
  {
   "cell_type": "code",
   "execution_count": 113,
   "id": "2fe68c54",
   "metadata": {},
   "outputs": [],
   "source": [
    "movies_df['Year'] = movies_df['Year'].str.replace('unknown', 'Unknown')\n"
   ]
  },
  {
   "cell_type": "code",
   "execution_count": 114,
   "id": "c60e6057",
   "metadata": {},
   "outputs": [
    {
     "name": "stdout",
     "output_type": "stream",
     "text": [
      "0                             blood red sky\n",
      "1       masters of the universe: revelation\n",
      "2                          the walking dead\n",
      "3                            rick and morty\n",
      "4                           army of thieves\n",
      "                       ...                 \n",
      "9975                               ultraman\n",
      "9979                      never have i ever\n",
      "9993                              totenfrau\n",
      "9995                                 arcane\n",
      "9996                      heart of invictus\n",
      "Name: Movies, Length: 8336, dtype: object\n"
     ]
    }
   ],
   "source": [
    "print(movies_df['Movies'].str.strip().str.lower())\n"
   ]
  },
  {
   "cell_type": "code",
   "execution_count": 115,
   "id": "6684d5e1",
   "metadata": {},
   "outputs": [
    {
     "name": "stdout",
     "output_type": "stream",
     "text": [
      "6816\n",
      "6816\n"
     ]
    }
   ],
   "source": [
    "print(movies_df['Movies'].nunique())\n",
    "movies_df = movies_df.drop_duplicates(subset='Movies', keep='first')\n",
    "print(movies_df.shape[0])\n"
   ]
  },
  {
   "cell_type": "code",
   "execution_count": 116,
   "id": "84c87eda",
   "metadata": {},
   "outputs": [],
   "source": [
    "movies_df['Rating'] = movies_df['Rating'].fillna(movies_df['Rating'].mean())\n"
   ]
  },
  {
   "cell_type": "code",
   "execution_count": 142,
   "id": "da3d42f7",
   "metadata": {},
   "outputs": [
    {
     "data": {
      "image/png": "[encoded data removed]",
      "text/plain": [
       "<Figure size 640x480 with 1 Axes>"
      ]
     },
     "metadata": {},
     "output_type": "display_data"
    }
   ],
   "source": [
    "movies_df['Runtime'] = pd.to_numeric(movies_df['Runtime'])\n",
    "\n",
    "def categorize_runtime(x):\n",
    "    if pd.isna(x):\n",
    "        return 'Unknown'\n",
    "    if x<=20:\n",
    "        return '1-20'\n",
    "    if x <=60:\n",
    "        return '20-60'\n",
    "    elif x <= 90:\n",
    "        return '60-90'\n",
    "    elif x <= 150:\n",
    "        return '90-150'\n",
    "    elif x <= 180:\n",
    "        return '150-180'\n",
    "    else:\n",
    "        return '180+'\n",
    "    \n",
    "movies_df['Duration Category'] = movies_df['Runtime'].apply(categorize_runtime)\n",
    "\n",
    "category_counts = movies_df['Duration Category'].value_counts().reindex(\n",
    "    ['Unknown', '1-20', '20-60', '60-90', '90-150', '150-180', '180+'], fill_value = 0)\n",
    "\n",
    "category_counts.plot(kind='bar', color='skyblue', edgecolor='black')\n",
    "plt.title('Movie Duration Distribution')\n",
    "plt.xlabel('Duration Categories (minutes)')\n",
    "plt.ylabel('Number of Movies')\n",
    "plt.xticks(rotation = 45)\n",
    "plt.tight_layout()\n",
    "plt.show()\n"
   ]
  },
  {
   "cell_type": "code",
   "execution_count": 124,
   "id": "393d7da3",
   "metadata": {},
   "outputs": [],
   "source": [
    "def classify_type(val):\n",
    "    if not val or str(val).strip() in ['[]', \"['']\", '']:\n",
    "        return 'Others'\n",
    "    \n",
    "    val = str(val).lower()\n",
    "    if 'director' in val:\n",
    "        return 'Movie'\n",
    "    return 'Series'\n",
    "\n",
    "movies_df['Type'] = movies_df['Stars'].apply(classify_type)\n"
   ]
  },
  {
   "cell_type": "code",
   "execution_count": 128,
   "id": "8d477c60",
   "metadata": {},
   "outputs": [
    {
     "data": {
      "text/html": [
       "<div>\n",
       "<style scoped>\n",
       "    .dataframe tbody tr th:only-of-type {\n",
       "        vertical-align: middle;\n",
       "    }\n",
       "\n",
       "    .dataframe tbody tr th {\n",
       "        vertical-align: top;\n",
       "    }\n",
       "\n",
       "    .dataframe thead th {\n",
       "        text-align: right;\n",
       "    }\n",
       "</style>\n",
       "<table border=\"1\" class=\"dataframe\">\n",
       "  <thead>\n",
       "    <tr style=\"text-align: right;\">\n",
       "      <th></th>\n",
       "      <th>Movies</th>\n",
       "      <th>Year</th>\n",
       "      <th>Genre</th>\n",
       "      <th>Rating</th>\n",
       "      <th>One-Line</th>\n",
       "      <th>Stars</th>\n",
       "      <th>Votes</th>\n",
       "      <th>Runtime</th>\n",
       "      <th>Gross</th>\n",
       "      <th>New</th>\n",
       "      <th>start</th>\n",
       "      <th>end</th>\n",
       "      <th>Duration Category</th>\n",
       "      <th>Type</th>\n",
       "      <th>Runtime_mins</th>\n",
       "    </tr>\n",
       "  </thead>\n",
       "  <tbody>\n",
       "    <tr>\n",
       "      <th>0</th>\n",
       "      <td>Blood Red Sky</td>\n",
       "      <td>-2021</td>\n",
       "      <td>\\nAction, Horror, Thriller</td>\n",
       "      <td>6.100000</td>\n",
       "      <td>\\nA Woman With A Mysterious Illness Is Forced ...</td>\n",
       "      <td>\\n    Director:\\nPeter Thorwarth\\n| \\n    Star...</td>\n",
       "      <td>21,062</td>\n",
       "      <td>121.0</td>\n",
       "      <td>NaN</td>\n",
       "      <td>[2021]</td>\n",
       "      <td>None</td>\n",
       "      <td>2021</td>\n",
       "      <td>90-150</td>\n",
       "      <td>Movie</td>\n",
       "      <td>121.0</td>\n",
       "    </tr>\n",
       "    <tr>\n",
       "      <th>1</th>\n",
       "      <td>Masters of the Universe: Revelation</td>\n",
       "      <td>(2021– )</td>\n",
       "      <td>\\nAnimation, Action, Adventure</td>\n",
       "      <td>5.000000</td>\n",
       "      <td>\\nThe War For Eternia Begins Again In What May...</td>\n",
       "      <td>\\n            \\n    Stars:\\nChris Wood, \\nSara...</td>\n",
       "      <td>17,870</td>\n",
       "      <td>25.0</td>\n",
       "      <td>NaN</td>\n",
       "      <td>[2021]</td>\n",
       "      <td>2021</td>\n",
       "      <td>present</td>\n",
       "      <td>20-60</td>\n",
       "      <td>Animation</td>\n",
       "      <td>25.0</td>\n",
       "    </tr>\n",
       "    <tr>\n",
       "      <th>2</th>\n",
       "      <td>The Walking Dead</td>\n",
       "      <td>(2010–2022)</td>\n",
       "      <td>\\nDrama, Horror, Thriller</td>\n",
       "      <td>8.200000</td>\n",
       "      <td>\\nSheriff Deputy Rick Grimes Wakes Up From A C...</td>\n",
       "      <td>\\n            \\n    Stars:\\nAndrew Lincoln, \\n...</td>\n",
       "      <td>8,85,805</td>\n",
       "      <td>44.0</td>\n",
       "      <td>NaN</td>\n",
       "      <td>[2010, 2022]</td>\n",
       "      <td>2010</td>\n",
       "      <td>2022</td>\n",
       "      <td>20-60</td>\n",
       "      <td>Series</td>\n",
       "      <td>44.0</td>\n",
       "    </tr>\n",
       "    <tr>\n",
       "      <th>3</th>\n",
       "      <td>Rick and Morty</td>\n",
       "      <td>(2013– )</td>\n",
       "      <td>\\nAnimation, Adventure, Comedy</td>\n",
       "      <td>9.200000</td>\n",
       "      <td>\\nAn Animated Series That Follows The Exploits...</td>\n",
       "      <td>\\n            \\n    Stars:\\nJustin Roiland, \\n...</td>\n",
       "      <td>4,14,849</td>\n",
       "      <td>23.0</td>\n",
       "      <td>NaN</td>\n",
       "      <td>[2013]</td>\n",
       "      <td>2013</td>\n",
       "      <td>present</td>\n",
       "      <td>20-60</td>\n",
       "      <td>Animation</td>\n",
       "      <td>23.0</td>\n",
       "    </tr>\n",
       "    <tr>\n",
       "      <th>4</th>\n",
       "      <td>Army of Thieves</td>\n",
       "      <td>-2021</td>\n",
       "      <td>\\nAction, Crime, Horror</td>\n",
       "      <td>6.635529</td>\n",
       "      <td>\\nA Prequel, Set Before The Events Of Army Of ...</td>\n",
       "      <td>\\n    Director:\\nMatthias Schweighöfer\\n| \\n  ...</td>\n",
       "      <td>NaN</td>\n",
       "      <td>NaN</td>\n",
       "      <td>NaN</td>\n",
       "      <td>[2021]</td>\n",
       "      <td>None</td>\n",
       "      <td>2021</td>\n",
       "      <td>Unknown</td>\n",
       "      <td>Movie</td>\n",
       "      <td>NaN</td>\n",
       "    </tr>\n",
       "    <tr>\n",
       "      <th>...</th>\n",
       "      <td>...</td>\n",
       "      <td>...</td>\n",
       "      <td>...</td>\n",
       "      <td>...</td>\n",
       "      <td>...</td>\n",
       "      <td>...</td>\n",
       "      <td>...</td>\n",
       "      <td>...</td>\n",
       "      <td>...</td>\n",
       "      <td>...</td>\n",
       "      <td>...</td>\n",
       "      <td>...</td>\n",
       "      <td>...</td>\n",
       "      <td>...</td>\n",
       "      <td>...</td>\n",
       "    </tr>\n",
       "    <tr>\n",
       "      <th>9935</th>\n",
       "      <td>The Imperfects</td>\n",
       "      <td>(2021– )</td>\n",
       "      <td>\\nAdventure, Drama, Fantasy</td>\n",
       "      <td>6.635529</td>\n",
       "      <td>\\nAdd A Plot\\n</td>\n",
       "      <td>\\n            \\n    Stars:\\nMorgan Taylor Camp...</td>\n",
       "      <td>NaN</td>\n",
       "      <td>NaN</td>\n",
       "      <td>NaN</td>\n",
       "      <td>[2021]</td>\n",
       "      <td>2021</td>\n",
       "      <td>present</td>\n",
       "      <td>Unknown</td>\n",
       "      <td>Series</td>\n",
       "      <td>NaN</td>\n",
       "    </tr>\n",
       "    <tr>\n",
       "      <th>9964</th>\n",
       "      <td>AlRawabi School for Girls</td>\n",
       "      <td>-2021</td>\n",
       "      <td>\\nDrama</td>\n",
       "      <td>6.635529</td>\n",
       "      <td>\\nAdd A Plot\\n</td>\n",
       "      <td>\\n    Director:\\nTima Shomali\\n| \\n    Stars:\\...</td>\n",
       "      <td>NaN</td>\n",
       "      <td>NaN</td>\n",
       "      <td>NaN</td>\n",
       "      <td>[2021]</td>\n",
       "      <td>None</td>\n",
       "      <td>2021</td>\n",
       "      <td>Unknown</td>\n",
       "      <td>Movie</td>\n",
       "      <td>NaN</td>\n",
       "    </tr>\n",
       "    <tr>\n",
       "      <th>9993</th>\n",
       "      <td>Totenfrau</td>\n",
       "      <td>(2022– )</td>\n",
       "      <td>\\nDrama, Thriller</td>\n",
       "      <td>6.635529</td>\n",
       "      <td>\\nAdd A Plot\\n</td>\n",
       "      <td>\\n    Director:\\nNicolai Rohde\\n| \\n    Stars:...</td>\n",
       "      <td>NaN</td>\n",
       "      <td>NaN</td>\n",
       "      <td>NaN</td>\n",
       "      <td>[2022]</td>\n",
       "      <td>2022</td>\n",
       "      <td>present</td>\n",
       "      <td>Unknown</td>\n",
       "      <td>Movie</td>\n",
       "      <td>NaN</td>\n",
       "    </tr>\n",
       "    <tr>\n",
       "      <th>9995</th>\n",
       "      <td>Arcane</td>\n",
       "      <td>(2021– )</td>\n",
       "      <td>\\nAnimation, Action, Adventure</td>\n",
       "      <td>6.635529</td>\n",
       "      <td>\\nAdd A Plot\\n</td>\n",
       "      <td>\\n</td>\n",
       "      <td>NaN</td>\n",
       "      <td>NaN</td>\n",
       "      <td>NaN</td>\n",
       "      <td>[2021]</td>\n",
       "      <td>2021</td>\n",
       "      <td>present</td>\n",
       "      <td>Unknown</td>\n",
       "      <td>Animation</td>\n",
       "      <td>NaN</td>\n",
       "    </tr>\n",
       "    <tr>\n",
       "      <th>9996</th>\n",
       "      <td>Heart of Invictus</td>\n",
       "      <td>(2022– )</td>\n",
       "      <td>\\nDocumentary, Sport</td>\n",
       "      <td>6.635529</td>\n",
       "      <td>\\nAdd A Plot\\n</td>\n",
       "      <td>\\n    Director:\\nOrlando von Einsiedel\\n| \\n  ...</td>\n",
       "      <td>NaN</td>\n",
       "      <td>NaN</td>\n",
       "      <td>NaN</td>\n",
       "      <td>[2022]</td>\n",
       "      <td>2022</td>\n",
       "      <td>present</td>\n",
       "      <td>Unknown</td>\n",
       "      <td>Documentary</td>\n",
       "      <td>NaN</td>\n",
       "    </tr>\n",
       "  </tbody>\n",
       "</table>\n",
       "<p>6816 rows × 15 columns</p>\n",
       "</div>"
      ],
      "text/plain": [
       "                                   Movies         Year  \\\n",
       "0                           Blood Red Sky        -2021   \n",
       "1     Masters of the Universe: Revelation     (2021– )   \n",
       "2                        The Walking Dead  (2010–2022)   \n",
       "3                          Rick and Morty     (2013– )   \n",
       "4                         Army of Thieves        -2021   \n",
       "...                                   ...          ...   \n",
       "9935                       The Imperfects     (2021– )   \n",
       "9964            AlRawabi School for Girls        -2021   \n",
       "9993                            Totenfrau     (2022– )   \n",
       "9995                               Arcane     (2021– )   \n",
       "9996                    Heart of Invictus     (2022– )   \n",
       "\n",
       "                                           Genre    Rating  \\\n",
       "0         \\nAction, Horror, Thriller              6.100000   \n",
       "1     \\nAnimation, Action, Adventure              5.000000   \n",
       "2          \\nDrama, Horror, Thriller              8.200000   \n",
       "3     \\nAnimation, Adventure, Comedy              9.200000   \n",
       "4            \\nAction, Crime, Horror              6.635529   \n",
       "...                                          ...       ...   \n",
       "9935     \\nAdventure, Drama, Fantasy              6.635529   \n",
       "9964                         \\nDrama              6.635529   \n",
       "9993               \\nDrama, Thriller              6.635529   \n",
       "9995  \\nAnimation, Action, Adventure              6.635529   \n",
       "9996            \\nDocumentary, Sport              6.635529   \n",
       "\n",
       "                                               One-Line  \\\n",
       "0     \\nA Woman With A Mysterious Illness Is Forced ...   \n",
       "1     \\nThe War For Eternia Begins Again In What May...   \n",
       "2     \\nSheriff Deputy Rick Grimes Wakes Up From A C...   \n",
       "3     \\nAn Animated Series That Follows The Exploits...   \n",
       "4     \\nA Prequel, Set Before The Events Of Army Of ...   \n",
       "...                                                 ...   \n",
       "9935                                     \\nAdd A Plot\\n   \n",
       "9964                                     \\nAdd A Plot\\n   \n",
       "9993                                     \\nAdd A Plot\\n   \n",
       "9995                                     \\nAdd A Plot\\n   \n",
       "9996                                     \\nAdd A Plot\\n   \n",
       "\n",
       "                                                  Stars     Votes  Runtime  \\\n",
       "0     \\n    Director:\\nPeter Thorwarth\\n| \\n    Star...    21,062    121.0   \n",
       "1     \\n            \\n    Stars:\\nChris Wood, \\nSara...    17,870     25.0   \n",
       "2     \\n            \\n    Stars:\\nAndrew Lincoln, \\n...  8,85,805     44.0   \n",
       "3     \\n            \\n    Stars:\\nJustin Roiland, \\n...  4,14,849     23.0   \n",
       "4     \\n    Director:\\nMatthias Schweighöfer\\n| \\n  ...       NaN      NaN   \n",
       "...                                                 ...       ...      ...   \n",
       "9935  \\n            \\n    Stars:\\nMorgan Taylor Camp...       NaN      NaN   \n",
       "9964  \\n    Director:\\nTima Shomali\\n| \\n    Stars:\\...       NaN      NaN   \n",
       "9993  \\n    Director:\\nNicolai Rohde\\n| \\n    Stars:...       NaN      NaN   \n",
       "9995                                                 \\n       NaN      NaN   \n",
       "9996  \\n    Director:\\nOrlando von Einsiedel\\n| \\n  ...       NaN      NaN   \n",
       "\n",
       "     Gross           New start      end Duration Category         Type  \\\n",
       "0      NaN        [2021]  None     2021            90-150        Movie   \n",
       "1      NaN        [2021]  2021  present             20-60    Animation   \n",
       "2      NaN  [2010, 2022]  2010     2022             20-60       Series   \n",
       "3      NaN        [2013]  2013  present             20-60    Animation   \n",
       "4      NaN        [2021]  None     2021           Unknown        Movie   \n",
       "...    ...           ...   ...      ...               ...          ...   \n",
       "9935   NaN        [2021]  2021  present           Unknown       Series   \n",
       "9964   NaN        [2021]  None     2021           Unknown        Movie   \n",
       "9993   NaN        [2022]  2022  present           Unknown        Movie   \n",
       "9995   NaN        [2021]  2021  present           Unknown    Animation   \n",
       "9996   NaN        [2022]  2022  present           Unknown  Documentary   \n",
       "\n",
       "      Runtime_mins  \n",
       "0            121.0  \n",
       "1             25.0  \n",
       "2             44.0  \n",
       "3             23.0  \n",
       "4              NaN  \n",
       "...            ...  \n",
       "9935           NaN  \n",
       "9964           NaN  \n",
       "9993           NaN  \n",
       "9995           NaN  \n",
       "9996           NaN  \n",
       "\n",
       "[6816 rows x 15 columns]"
      ]
     },
     "execution_count": 128,
     "metadata": {},
     "output_type": "execute_result"
    }
   ],
   "source": [
    "def convert_runtime(runtime):\n",
    "    # Extract numeric part (e.g., \"45 min\" → 45)\n",
    "    if pd.isna(runtime):\n",
    "        return None\n",
    "    match = re.search(r'\\d+', str(runtime))\n",
    "    return int(match.group()) if match else None\n",
    "\n",
    "# Step 1: Convert runtime to integer minutes\n",
    "movies_df['Runtime_mins'] = movies_df['Runtime'].apply(convert_runtime)\n",
    "\n",
    "# Step 2: Replace 'Movie' with 'Short-movie' where Runtime <= 40\n",
    "movies_df.loc[\n",
    "    (movies_df['Type'] == 'Movie') & (movies_df['Runtime_mins'] <= 40),\n",
    "    'Type'\n",
    "] = 'Short-movie'\n",
    "movies_df\n"
   ]
  },
  {
   "cell_type": "code",
   "execution_count": 129,
   "id": "c96fa2d9",
   "metadata": {},
   "outputs": [],
   "source": [
    "movies_df.drop(columns='Runtime_mins', inplace=True)\n"
   ]
  },
  {
   "cell_type": "code",
   "execution_count": 134,
   "id": "b6f706c3",
   "metadata": {},
   "outputs": [
    {
     "name": "stdout",
     "output_type": "stream",
     "text": [
      "1511\n"
     ]
    }
   ],
   "source": [
    "print(sum(movies_df['Runtime'].isna()))"
   ]
  },
  {
   "cell_type": "code",
   "execution_count": 135,
   "id": "8203befa",
   "metadata": {},
   "outputs": [],
   "source": [
    "# Step 1: Convert Runtime to numeric (in minutes) if not already\n",
    "def extract_minutes(runtime):\n",
    "    if pd.isna(runtime):\n",
    "        return None\n",
    "    match = re.search(r'\\d+', str(runtime))\n",
    "    return int(match.group()) if match else None\n",
    "\n",
    "movies_df['Runtime_mins'] = movies_df['Runtime'].apply(extract_minutes)\n",
    "\n",
    "# Step 2: Fill nulls in Runtime_mins using average by Type\n",
    "movies_df['Runtime_mins'] = movies_df.groupby('Type')['Runtime_mins'].transform(\n",
    "    lambda x: x.fillna(round(x.mean()))\n",
    ")\n",
    "\n",
    "# (Optional) Step 3: Replace original Runtime with filled values\n",
    "movies_df['Runtime'] = movies_df['Runtime_mins'].astype(int).astype(str) + ' min'\n",
    "\n",
    "# (Optional) Drop temporary column\n",
    "movies_df.drop(columns='Runtime_mins', inplace=True)\n"
   ]
  },
  {
   "cell_type": "code",
   "execution_count": 141,
   "id": "99e5f661",
   "metadata": {},
   "outputs": [],
   "source": [
    "# Round Rating to 1 decimal place\n",
    "movies_df['Rating'] = movies_df['Rating'].round(1)\n",
    "\n",
    "# Extract minutes from Runtime and remove decimals\n",
    "def clean_runtime(runtime):\n",
    "    if pd.isna(runtime):\n",
    "        return None\n",
    "    match = re.search(r'\\d+', str(runtime))\n",
    "    return str(int(match.group())) if match else None\n",
    "\n",
    "movies_df['Runtime'] = movies_df['Runtime'].apply(clean_runtime)\n"
   ]
  },
  {
   "cell_type": "code",
   "execution_count": 125,
   "id": "d3579ef4",
   "metadata": {},
   "outputs": [],
   "source": [
    "import re\n",
    "\n",
    "def classify_type_from_genre(genre):\n",
    "    genre = str(genre).lower()\n",
    "    \n",
    "    if 'short' in genre:\n",
    "        if 'animation' in genre:\n",
    "            return 'Short-Animation'\n",
    "        return 'Short-movie'\n",
    "    \n",
    "    elif 'documentary' in genre:\n",
    "        return 'Documentary'\n",
    "    \n",
    "    elif 'animation' in genre:\n",
    "        return 'Animation'\n",
    "    \n",
    "    elif re.search(r'tv[\\s\\-]?show', genre):\n",
    "        return 'TV-show'\n",
    "    \n",
    "    elif re.search(r'reality[\\s\\-]?tv|reality', genre):\n",
    "        return 'Reality Show'\n",
    "    \n",
    "    return None  # leave it unchanged if none matched\n",
    "\n",
    "# Apply logic and update Type column only if match found\n",
    "movies_df['Type'] = movies_df.apply(\n",
    "    lambda row: classify_type_from_genre(row['Genre']) if classify_type_from_genre(row['Genre']) else row['Type'],\n",
    "    axis=1\n",
    ")\n"
   ]
  },
  {
   "cell_type": "code",
   "execution_count": 101,
   "id": "a319e8ef",
   "metadata": {},
   "outputs": [],
   "source": [
    "def fill_from_new(row):\n",
    "    start, end, new_vals = row['start'], row['end'], row['New']\n",
    "    \n",
    "    if pd.isna(start) and pd.isna(end):\n",
    "        if isinstance(new_vals, list):\n",
    "            if len(new_vals) == 2:\n",
    "                return pd.Series([new_vals[0], new_vals[1]])\n",
    "            elif len(new_vals) == 1:\n",
    "                return pd.Series([None, new_vals[0]])\n",
    "    return pd.Series([start, end])\n",
    "\n",
    "# Apply the logic\n",
    "movies_df[['start', 'end']] = movies_df.apply(fill_from_new, axis=1)\n"
   ]
  },
  {
   "cell_type": "code",
   "execution_count": 122,
   "id": "5f31675f",
   "metadata": {},
   "outputs": [],
   "source": [
    "import pandas as pd\n",
    "import ast\n",
    "\n",
    "# Example: Convert 'new' string to list if needed\n",
    "movies_df['New'] = movies_df['New'].apply(lambda x: ast.literal_eval(x) if isinstance(x, str) else x)\n",
    "\n",
    "# Step 1: Fix start and end if start contains a dash string like 'unknown - 2021'\n",
    "def split_start_end(value):\n",
    "    if isinstance(value, str) and '-' in value:\n",
    "        parts = value.split('-')\n",
    "        start = parts[0].strip()\n",
    "        end = parts[1].strip()\n",
    "        return start if start.lower() != 'unknown' else None, end\n",
    "    return value, None\n",
    "\n",
    "movies_df[['start', 'end']] = movies_df.apply(\n",
    "    lambda row: pd.Series(split_start_end(row['start'])) if isinstance(row['start'], str) and '-' in row['start'] else pd.Series([row['start'], row['end']]),\n",
    "    axis=1\n",
    ")\n",
    "\n",
    "# Step 2: Fill missing start and end from 'new'\n",
    "def fill_from_new(row):\n",
    "    start, end, new_vals = row['start'], row['end'], row['New']\n",
    "    \n",
    "    if pd.isna(start) and pd.isna(end):\n",
    "        if isinstance(new_vals, list):\n",
    "            if len(new_vals) == 2:\n",
    "                return pd.Series([new_vals[0], new_vals[1]])\n",
    "            elif len(new_vals) == 1:\n",
    "                return pd.Series([None, new_vals[0]])\n",
    "    return pd.Series([start, end])\n",
    "\n",
    "movies_df[['start', 'end']] = movies_df.apply(fill_from_new, axis=1)\n"
   ]
  },
  {
   "cell_type": "code",
   "execution_count": 147,
   "id": "bc6c9d5f",
   "metadata": {},
   "outputs": [
    {
     "name": "stdout",
     "output_type": "stream",
     "text": [
      "0\n"
     ]
    }
   ],
   "source": [
    "print(sum(movies_df['end'].isna() & movies_df['Type'] == 'Short Movie'))"
   ]
  },
  {
   "cell_type": "code",
   "execution_count": 148,
   "id": "09ab1ad6",
   "metadata": {},
   "outputs": [
    {
     "name": "stdout",
     "output_type": "stream",
     "text": [
      "\n",
      "--- Starting DataFrame Export Workflow ---\n",
      "\n",
      "--- Preparing to save DataFrame in 'C:\\Users\\yuvra\\OneDrive\\Desktop\\Cleaning' ---\n",
      "Saving DataFrame to 'C:\\Users\\yuvra\\OneDrive\\Desktop\\Cleaning\\movies_49.xlsx'...\n",
      "DataFrame saved successfully to: C:\\Users\\yuvra\\OneDrive\\Desktop\\Cleaning\\movies_49.xlsx\n",
      "\n",
      "\n",
      "--- Attempting to Open 'C:\\Users\\yuvra\\OneDrive\\Desktop\\Cleaning\\movies_49.xlsx' on your system ---\n",
      "Opened file successfully. Check your default spreadsheet application.\n",
      "\n",
      "--- DataFrame Export Completed ---\n"
     ]
    }
   ],
   "source": [
    "ls.export_and_open_dataframe(movies_df, movies_path, r'C:\\Users\\yuvra\\OneDrive\\Desktop\\Cleaning')"
   ]
  }
 ],
 "metadata": {
  "kernelspec": {
   "display_name": "Python 3",
   "language": "python",
   "name": "python3"
  },
  "language_info": {
   "codemirror_mode": {
    "name": "ipython",
    "version": 3
   },
   "file_extension": ".py",
   "mimetype": "text/x-python",
   "name": "python",
   "nbconvert_exporter": "python",
   "pygments_lexer": "ipython3",
   "version": "3.11.9"
  }
 },
 "nbformat": 4,
 "nbformat_minor": 5
}
